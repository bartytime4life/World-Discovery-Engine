{
  "nbformat": 4,
  "nbformat_minor": 5,
  "metadata": {
    "kernelspec": {
      "name": "python3",
      "display_name": "Python 3"
    },
    "language_info": {
      "name": "python",
      "version": "3.x"
    }
  },
  "cells": [
    {
      "cell_type": "markdown",
      "metadata": {},
      "source": [
        "# \ud83c\udf0d WDE \u2014 End\u2011to\u2011End Demo Notebook\n",
        "\n",
        "_Generated: 2025-08-27T19:13:45_\n",
        "\n",
        "This end\u2011to\u2011end demo wires the starter scaffold to the **`tools/wde_pipeline.py`**\n",
        "stubs and reads settings from **`configs/kaggle.yaml`** and **`configs/pipeline.yaml`**.\n",
        "\n",
        "It remains Kaggle\u2011safe by avoiding heavy GIS requirements.\n"
      ]
    },
    {
      "cell_type": "code",
      "metadata": {
        "id": "setup"
      },
      "source": [
        "import os, sys, json, time\n",
        "from pathlib import Path\n",
        "\n",
        "INPUT_DIR = Path('/kaggle/input')\n",
        "WORK_DIR = Path('/kaggle/working') if Path('/kaggle/working').exists() else Path('.')\n",
        "OUT_DIR = WORK_DIR / 'wde_outputs'\n",
        "OUT_DIR.mkdir(parents=True, exist_ok=True)\n",
        "print('Python:', sys.version)\n",
        "print('Working dir:', WORK_DIR)\n",
        "print('Outputs dir:', OUT_DIR)\n"
      ],
      "outputs": [],
      "execution_count": 0
    },
    {
      "cell_type": "code",
      "metadata": {},
      "source": [
        "sys.path.insert(0, str(Path('./tools').resolve()))\n",
        "try:\n",
        "    from kaggle_utils import read_config, list_input_tree, timer\n",
        "    from wde_pipeline import run_demo_candidate_generation, export_topk, plot_candidates, write_manifest\n",
        "    print('Loaded tools modules.')\n",
        "except Exception as e:\n",
        "    raise RuntimeError('Required tools modules are missing. Make sure ./tools exists next to this notebook.') from e\n"
      ],
      "outputs": [],
      "execution_count": 0
    },
    {
      "cell_type": "markdown",
      "metadata": {},
      "source": [
        "## Load configs"
      ]
    },
    {
      "cell_type": "code",
      "metadata": {},
      "source": [
        "CFG = {}\n",
        "PIPE = {}\n",
        "if Path('configs/kaggle.yaml').exists():\n",
        "    CFG = read_config('configs/kaggle.yaml')\n",
        "else:\n",
        "    CFG = {'random_seed': 42, 'demo_size': 500, 'outputs_dir': 'wde_outputs'}\n",
        "if Path('configs/pipeline.yaml').exists():\n",
        "    PIPE = read_config('configs/pipeline.yaml')\n",
        "CFG, PIPE\n"
      ],
      "outputs": [],
      "execution_count": 0
    },
    {
      "cell_type": "markdown",
      "metadata": {},
      "source": [
        "## Inspect inputs (optional)"
      ]
    },
    {
      "cell_type": "code",
      "metadata": {},
      "source": [
        "if INPUT_DIR.exists():\n",
        "    list_input_tree(INPUT_DIR, max_depth=2)\n",
        "else:\n",
        "    print('Non-Kaggle runtime; skip input listing.')\n"
      ],
      "outputs": [],
      "execution_count": 0
    },
    {
      "cell_type": "markdown",
      "metadata": {},
      "source": [
        "## Run demo candidate generation"
      ]
    },
    {
      "cell_type": "code",
      "metadata": {},
      "source": [
        "with timer('demo-candidates'):\n",
        "    df = run_demo_candidate_generation(CFG)\n",
        "df.head()\n"
      ],
      "outputs": [],
      "execution_count": 0
    },
    {
      "cell_type": "markdown",
      "metadata": {},
      "source": [
        "## Export Top\u2011K & Plot"
      ]
    },
    {
      "cell_type": "code",
      "metadata": {},
      "source": [
        "top_csv = export_topk(df, OUT_DIR, k=50)\n",
        "png = plot_candidates(df, OUT_DIR)\n",
        "manifest = write_manifest(OUT_DIR)\n",
        "top_csv, png, manifest\n"
      ],
      "outputs": [],
      "execution_count": 0
    },
    {
      "cell_type": "markdown",
      "metadata": {},
      "source": [
        "## Next steps\n",
        "- Replace `run_demo_candidate_generation` with real fusion & scoring.\n",
        "- Use `configs/datasources.yaml` to parameterize data pulls when running locally.\n",
        "- Keep heavy GIS out of the Kaggle notebook; call into lightweight wrappers instead."
      ]
    }
  ]
}