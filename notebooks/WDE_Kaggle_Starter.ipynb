{
 "nbformat": 4,
 "nbformat_minor": 5,
 "metadata": {
  "kernelspec": {"name": "python3", "display_name": "Python 3"},
  "language_info": {"name": "python", "version": "3.12"}
 },
 "cells": [
  {
   "cell_type": "markdown",
   "metadata": {},
   "source": [
    "# 🌍 World Discovery Engine (WDE) — Kaggle Starter Notebook\n",
    "\n",
    "This reproducible starter demonstrates the WDE pipeline stages (`ingest → detect → evaluate → report`) with **open data principles** and Kaggle-friendly scaffolding.\n",
    "\n",
    "- Prints environment/runtime info\n",
    "- Lists inputs in `/kaggle/input`\n",
    "- Reads config (if available) or defaults\n",
    "- Generates a demo candidate CSV + manifest\n",
    "- Embeds CARE & reproducibility notes\n",
    "\n",
    "➡️ Replace placeholders with real data fetchers, anomaly detection, ADE fingerprints, and dossier builders as you develop:contentReference[oaicite:5]{index=5}:contentReference[oaicite:6]{index=6}."
   ]
  },
  {
   "cell_type": "code",
   "execution_count": null,
   "metadata": {},
   "outputs": [],
   "source": [
    "import os, sys, platform, json, csv, random\n",
    "from pathlib import Path\n",
    "from datetime import datetime\n",
    "\n",
    "INPUT_DIR = Path('/kaggle/input')\n",
    "WORK_DIR = Path('/kaggle/working') if Path('/kaggle/working').exists() else Path('.')\n",
    "OUT_DIR = WORK_DIR / 'wde_outputs'\n",
    "OUT_DIR.mkdir(parents=True, exist_ok=True)\n",
    "\n",
    "print('Python:', sys.version.split()[0])\n",
    "print('Platform:', platform.platform())\n",
    "print('INPUT_DIR exists:', INPUT_DIR.exists())\n",
    "print('WORK_DIR:', WORK_DIR)\n",
    "print('OUT_DIR:', OUT_DIR)"
   ]
  },
  {
   "cell_type": "markdown",
   "metadata": {},
   "source": ["## 1) Inspect inputs"]
  },
  {
   "cell_type": "code",
   "execution_count": null,
   "metadata": {},
   "outputs": [],
   "source": [
    "def list_tree(root, max_depth=2, max_files=10):\n",
    "    root = Path(root)\n",
    "    if not root.exists():\n",
    "        print('No input directory found.')\n",
    "        return\n",
    "    base_depth = len(root.parts)\n",
    "    for p, dnames, fnames in os.walk(root):\n",
    "        depth = len(Path(p).parts) - base_depth\n",
    "        if depth > max_depth:\n",
    "            dnames[:] = []\n",
    "            continue\n",
    "        print(str(Path(p)), f'(dirs={len(dnames)} files={len(fnames)})')\n",
    "        for fn in fnames[:max_files]:\n",
    "            print('  -', fn)\n",
    "        if len(fnames) > max_files:\n",
    "            print('  ...')\n",
    "\n",
    "list_tree(INPUT_DIR)"
   ]
  },
  {
   "cell_type": "markdown",
   "metadata": {},
   "source": ["## 2) Load config (`configs/kaggle.yaml` if available)"]
  },
  {
   "cell_type": "code",
   "execution_count": null,
   "metadata": {},
   "outputs": [],
   "source": [
    "CFG_PATH = Path('./configs/kaggle.yaml')\n",
    "CFG = {}\n",
    "if CFG_PATH.exists():\n",
    "    try:\n",
    "        import yaml\n",
    "        with CFG_PATH.open('r', encoding='utf-8') as f:\n",
    "            CFG = yaml.safe_load(f)\n",
    "    except Exception as e:\n",
    "        print('Config parse error, using defaults:', e)\n",
    "        CFG = {}\n",
    "else:\n",
    "    CFG = {\n",
    "        'random_seed': 42,\n",
    "        'sample_rows': 1000,\n",
    "        'outputs_dir': 'wde_outputs'\n",
    "    }\n",
    "print('Config:', json.dumps(CFG, indent=2))"
   ]
  },
  {
   "cell_type": "markdown",
   "metadata": {},
   "source": ["## 3) Generate demo candidates (top 50 synthetic)"]
  },
  {
   "cell_type": "code",
   "execution_count": null,
   "metadata": {},
   "outputs": [],
   "source": [
    "random.seed(CFG.get('random_seed', 42))\n",
    "N = 50\n",
    "lat_min, lat_max = -15.0, -2.0\n",
    "lon_min, lon_max = -75.0, -45.0\n",
    "rows = []\n",
    "for i in range(N):\n",
    "    lat = random.uniform(lat_min, lat_max)\n",
    "    lon = random.uniform(lon_min, lon_max)\n",
    "    rows.append({\n",
    "        'id': f'cand_{i+1}',\n",
    "        'lat': round(lat, 6),\n",
    "        'lon': round(lon, 6),\n",
    "        'score': round(random.random(), 4),\n",
    "        'confidence': round(0.6 + 0.4*random.random(), 3),\n",
    "        'notes': 'demo'\n",
    "    })\n",
    "\n",
    "cand_path = OUT_DIR / 'demo_candidates_top50.csv'\n",
    "with cand_path.open('w', newline='', encoding='utf-8') as f:\n",
    "    w = csv.DictWriter(f, fieldnames=['id','lat','lon','score','confidence','notes'])\n",
    "    w.writeheader()\n",
    "    for r in rows:\n",
    "        w.writerow(r)\n",
    "\n",
    "print('Saved demo candidates to:', cand_path)"
   ]
  },
  {
   "cell_type": "markdown",
   "metadata": {},
   "source": ["## 4) Save run manifest"]
  },
  {
   "cell_type": "code",
   "execution_count": null,
   "metadata": {},
   "outputs": [],
   "source": [
    "artifacts = []\n",
    "for p in OUT_DIR.rglob('*'):\n",
    "    if p.is_file():\n",
    "        artifacts.append({'path': str(p.relative_to(OUT_DIR)), 'size_bytes': p.stat().st_size})\n",
    "\n",
    "manifest = {\n",
    "    'generated': datetime.utcnow().isoformat()+'Z',\n",
    "    'outputs_dir': str(OUT_DIR),\n",
    "    'artifacts': artifacts\n",
    "}\n",
    "with (OUT_DIR / 'run_manifest.json').open('w', encoding='utf-8') as f:\n",
    "    json.dump(manifest, f, indent=2)\n",
    "print('Manifest entries:', len(artifacts))"
   ]
  },
  {
   "cell_type": "markdown",
   "metadata": {},
   "source": [
    "## 5) Next Steps\n",
    "- Replace synthetic demo with full **WDE pipeline** (`ade_discovery_pipeline.ipynb`).\n",
    "- Attach open geospatial datasets (Sentinel-1/2, Landsat, DEM, SoilGrids, GEDI):contentReference[oaicite:7]{index=7}.\n",
    "- Implement anomaly detection (CV, VLM, ADE fingerprints, fractal analysis):contentReference[oaicite:8]{index=8}.\n",
    "- Integrate causal graphs + Bayesian uncertainty:contentReference[oaicite:9]{index=9}.\n",
    "- Generate site dossiers (maps, overlays, narratives):contentReference[oaicite:10]{index=10}.\n",
    "\n",
    "⚠️ **Ethics Reminder**: All discoveries must respect CARE Principles and Indigenous sovereignty. Do not release precise coordinates without community/authority consent:contentReference[oaicite:11]{index=11}."
   ]
  }
 ]
}
