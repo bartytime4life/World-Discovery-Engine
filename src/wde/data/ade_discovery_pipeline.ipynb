# 🏺 World Discovery Engine (WDE) — Kaggle Notebook

**OpenAI → Z Challenge · Archaeology & Earth Systems**

---

## 📌 What This Notebook Does

This notebook (`ade_discovery_pipeline.ipynb`) runs a **full discovery pipeline** for archaeologically significant sites (ADEs, geoglyphs, settlement mounds) in Amazonia, using only **open datasets**.

It produces **candidate site dossiers** with:

* 📡 Multi-sensor overlays (Sentinel-2, Sentinel-1 SAR, DEM/LiDAR)
* 🌱 Soil & vegetation fingerprints (Anthropogenic Dark Earth, ADE)
* 📜 Historical/archival snippets (maps, diaries, site DBs)
* 🔗 Causal plausibility graphs (FCI → PAG `.gml`)
* 🎲 Uncertainty estimates (Bayesian GNN)
* 🧪 Robustness tests (SSIM counterfactuals)

---

## 🔬 Pipeline Stages

1. **Ingest & Tile** — Sentinel-2, Sentinel-1, DEM, optional LiDAR; user overlays
2. **Coarse Scan** — Edge/Hough filters, texture, DEM hillshades, Vision-Language captions
3. **Mid-Scale Eval** — NDVI/EVI time-series, LiDAR canopy removal, hydro-geomorph plausibility, historical concordance
4. **Verification** — Multi-proof rule (≥2 modalities), ADE fingerprints, causal graphs, Bayesian uncertainty, SSIM what-if tests
5. **Dossiers** — Maps, overlays, ADE checklist, uncertainty charts, confidence narrative

---

## 🚀 How To Run (on Kaggle)

1. Open this notebook in Kaggle.
2. Click **Run All** (GPU optional, CPU fallback).
3. Outputs appear in `/outputs/`:

   * `candidates.json`, `candidates.geojson`
   * `/reports/` — site dossiers (PDF/HTML)
   * `/pag/` — causal graphs
   * `/uncertainty/`, `/ssim/`, `/ndvi_timeseries/`

---

## ⚖️ Ethics & Governance

* **CARE Principles** — Collective Benefit, Authority, Responsibility, Ethics
* **Sovereignty checks** — Indigenous lands flagged; exact coords masked by default
* **Legal compliance** — Brazil IPHAN & other regional rules respected
* **Anti-data colonialism** — Outputs meant for expert/local collaboration, not unilateral publication

---

## 🛠 Reproducibility

* **CC-0/open datasets only** (Sentinel, Landsat, NICFI, SRTM/Copernicus DEM, SoilGrids, HydroSHEDS, GEDI, etc.)
* **Deterministic runs** (fixed seeds, logged configs)
* **Outputs versioned** (JSON/GeoJSON, dossier PDFs, PAG `.gml`)

---

## 🏆 Success Criteria

* Archaeological impact (ADE or geoglyph proxies found)
* Evidence depth (≥2 modalities per site)
* Transparent dossiers (maps, graphs, narratives)
* Fully Kaggle-reproducible

---

👉 Judges: run this notebook **top-to-bottom**. The pipeline auto-falls back to demo data if APIs are offline, ensuring it completes in Kaggle every time.

---
